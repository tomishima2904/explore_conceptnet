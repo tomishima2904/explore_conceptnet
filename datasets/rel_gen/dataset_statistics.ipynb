{
 "cells": [
  {
   "cell_type": "code",
   "execution_count": 2,
   "id": "21f3ae1d",
   "metadata": {},
   "outputs": [
    {
     "name": "stdout",
     "output_type": "stream",
     "text": [
      "/work/tomishima2904/explore_conceptnet\n",
      "Dockerfile\t    fairseq\t\t\t   nohup.out  tmp\r\n",
      "datasets\t    japanese_bart_base_2.0.tar.gz  results    venv\r\n",
      "docker-compose.yml  logs\t\t\t   src\r\n"
     ]
    }
   ],
   "source": [
    "%cd ../../\n",
    "!ls"
   ]
  },
  {
   "cell_type": "code",
   "execution_count": 24,
   "id": "a8c57733",
   "metadata": {},
   "outputs": [],
   "source": [
    "import csv\n",
    "import json\n",
    "import gzip\n",
    "import numpy as np\n",
    "import pandas as pd\n",
    "import collections\n",
    "from pprint import pprint"
   ]
  },
  {
   "cell_type": "code",
   "execution_count": 8,
   "id": "478f08c7",
   "metadata": {},
   "outputs": [],
   "source": [
    "dataset_dir = \"datasets/rel_gen/redistributed_rhts\"\n",
    "train_path = f\"{dataset_dir}/rhts_train.csv.gz\"\n",
    "val_path = f\"{dataset_dir}/rhts_val.csv.gz\"\n",
    "test_path = f\"{dataset_dir}/rhts_test.csv.gz\""
   ]
  },
  {
   "cell_type": "code",
   "execution_count": 11,
   "id": "1ab40d15",
   "metadata": {},
   "outputs": [],
   "source": [
    "# load dataset\n",
    "with gzip.open(train_path, \"rt\") as f:\n",
    "    reader = csv.reader(f)\n",
    "    train_data = [[*row[:-1], eval(row[-1])] for row in reader]\n",
    "    \n",
    "with gzip.open(val_path, \"rt\") as f:\n",
    "    reader = csv.reader(f)\n",
    "    val_data = [[*row[:-1], eval(row[-1])] for row in reader]\n",
    "    \n",
    "with gzip.open(test_path, \"rt\") as f:\n",
    "    reader = csv.reader(f)\n",
    "    test_data = [[*row[:-1], eval(row[-1])] for row in reader]    "
   ]
  },
  {
   "cell_type": "code",
   "execution_count": 26,
   "id": "c08097bf",
   "metadata": {},
   "outputs": [
    {
     "name": "stdout",
     "output_type": "stream",
     "text": [
      "211333\n"
     ]
    }
   ],
   "source": [
    "all_data = []\n",
    "all_data.extend(train_data)\n",
    "all_data.extend(val_data)\n",
    "all_data.extend(test_data)\n",
    "print(len(all_data))"
   ]
  },
  {
   "cell_type": "code",
   "execution_count": 19,
   "id": "8cfa49aa",
   "metadata": {},
   "outputs": [
    {
     "name": "stdout",
     "output_type": "stream",
     "text": [
      "152361\n",
      "19045\n",
      "39927\n",
      "211333\n"
     ]
    }
   ],
   "source": [
    "# データ数\n",
    "train_num = len(train_data)\n",
    "val_num = len(val_data)\n",
    "test_num = len(test_data)\n",
    "print(train_num)\n",
    "print(val_num)\n",
    "print(test_num)\n",
    "print(train_num + val_num + test_num)"
   ]
  },
  {
   "cell_type": "code",
   "execution_count": 28,
   "id": "2ea8c71f",
   "metadata": {},
   "outputs": [],
   "source": [
    "def rel_types(dataset, output_path):\n",
    "    relations = [row[0] for row in dataset]\n",
    "    rel_types = collections.Counter(relations)\n",
    "    with open(output_path, 'w', encoding='utf-8') as f:\n",
    "        json.dump(rel_types, f, ensure_ascii=False, indent=4)\n",
    "    return rel_types \n",
    "\n",
    "\n",
    "output_dir = \"datasets/rel_gen/statistics/rel_types\"\n",
    "output_path_train = f\"{output_dir}/rel_types_train.json\"\n",
    "output_path_val = f\"{output_dir}/rel_types_val.json\"\n",
    "output_path_test = f\"{output_dir}/rel_types_test.json\"\n",
    "output_path_all = f\"{output_dir}/rel_types_all.json\"\n",
    "\n",
    "rel_types_train = rel_types(train_data, output_path_train)\n",
    "rel_types_val = rel_types(val_data, output_path_val)\n",
    "rel_types_test = rel_types(test_data, output_path_test)\n",
    "rel_types_all = rel_types(all_data, output_path_all)\n",
    "\n",
    "pprint(rel_types_train)"
   ]
  },
  {
   "cell_type": "code",
   "execution_count": 30,
   "id": "3292ee2a",
   "metadata": {},
   "outputs": [
    {
     "name": "stdout",
     "output_type": "stream",
     "text": [
      "4.441431862484494\n",
      "4.445891310055132\n",
      "4.520099181005334\n",
      "4.456696303937388\n"
     ]
    }
   ],
   "source": [
    "# 抽出した文の数の平均\n",
    "def avg_num_extracted_sentences(dataset):\n",
    "    num_extracted_sentences = [len(row[-1]) for row in dataset]\n",
    "    return sum(num_extracted_sentences)/len(num_extracted_sentences)\n",
    "\n",
    "avg_num_extracted_sentences_train =  avg_num_extracted_sentences(train_data)\n",
    "avg_num_extracted_sentences_val =  avg_num_extracted_sentences(val_data)\n",
    "avg_num_extracted_sentences_test =  avg_num_extracted_sentences(test_data)\n",
    "avg_num_extracted_sentences_all =  avg_num_extracted_sentences(all_data)\n",
    "\n",
    "print(avg_num_extracted_sentences_train)\n",
    "print(avg_num_extracted_sentences_val)\n",
    "print(avg_num_extracted_sentences_test)\n",
    "print(avg_num_extracted_sentences_all)"
   ]
  },
  {
   "cell_type": "code",
   "execution_count": 31,
   "id": "b8c71147",
   "metadata": {},
   "outputs": [
    {
     "name": "stdout",
     "output_type": "stream",
     "text": [
      "233.25447575812655\n",
      "234.3981363378685\n",
      "244.50118022540644\n",
      "235.51235179386885\n"
     ]
    }
   ],
   "source": [
    "# 抽出した文の長さの平均\n",
    "def avg_len_extracted_sentences(dataset):\n",
    "    len_extracted_sentences = [len(sentence) for row in dataset for sentence in row[-1]]\n",
    "    return sum(len_extracted_sentences)/len(len_extracted_sentences)\n",
    "\n",
    "avg_len_extracted_sentences_train =  avg_len_extracted_sentences(train_data)\n",
    "avg_len_extracted_sentences_val =  avg_len_extracted_sentences(val_data)\n",
    "avg_len_extracted_sentences_test =  avg_len_extracted_sentences(test_data)\n",
    "avg_len_extracted_sentences_all =  avg_len_extracted_sentences(all_data)\n",
    "\n",
    "print(avg_len_extracted_sentences_train)\n",
    "print(avg_len_extracted_sentences_val)\n",
    "print(avg_len_extracted_sentences_test)\n",
    "print(avg_len_extracted_sentences_all)"
   ]
  },
  {
   "cell_type": "code",
   "execution_count": null,
   "id": "4d4320ac",
   "metadata": {},
   "outputs": [],
   "source": []
  }
 ],
 "metadata": {
  "kernelspec": {
   "display_name": "Python 3 (ipykernel)",
   "language": "python",
   "name": "python3"
  },
  "language_info": {
   "codemirror_mode": {
    "name": "ipython",
    "version": 3
   },
   "file_extension": ".py",
   "mimetype": "text/x-python",
   "name": "python",
   "nbconvert_exporter": "python",
   "pygments_lexer": "ipython3",
   "version": "3.10.6"
  }
 },
 "nbformat": 4,
 "nbformat_minor": 5
}
