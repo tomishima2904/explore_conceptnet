{
 "cells": [
  {
   "cell_type": "code",
   "execution_count": 1,
   "metadata": {},
   "outputs": [
    {
     "name": "stdout",
     "output_type": "stream",
     "text": [
      "/work/tomishima2904/explore_conceptnet\n",
      "Dockerfile  do_1.sh  docker-compose.yml  nohup.out\t   src\n",
      "datasets    do_2.sh  logfile.log\t requirements.txt  tmp\n",
      "do_0.sh     do_3.sh  logs\t\t results\t   venv\n"
     ]
    }
   ],
   "source": [
    "%cd /work/tomishima2904/explore_conceptnet\n",
    "!ls"
   ]
  },
  {
   "cell_type": "code",
   "execution_count": 2,
   "metadata": {},
   "outputs": [],
   "source": [
    "import csv\n",
    "import json\n",
    "import random"
   ]
  },
  {
   "cell_type": "markdown",
   "metadata": {},
   "source": [
    "# 様々な条件でテンプレートを生成"
   ]
  },
  {
   "cell_type": "markdown",
   "metadata": {},
   "source": [
    "## 自動生成された連想理由を使用したテンプレート作成"
   ]
  },
  {
   "cell_type": "code",
   "execution_count": 3,
   "metadata": {},
   "outputs": [],
   "source": [
    "# 自動生成された連想理由のデータ読み込み\n",
    "input_path = \"results/ja/連想語頻度表/text_generation/231031120400_dev30_M10_0S_0R/m_and_a/len/diffs_btween_manda_formatted6.csv\"\n",
    "with open(input_path, 'r') as f:\n",
    "    reader = csv.reader(f)\n",
    "    input_data_a = [row for row in reader]"
   ]
  },
  {
   "cell_type": "code",
   "execution_count": 4,
   "metadata": {},
   "outputs": [
    {
     "data": {
      "text/plain": [
       "[['/r/IsA',\n",
       "  'ピアノ',\n",
       "  '楽器',\n",
       "  '(1) ピアノは楽器の一種なので、連想が成り立つ',\n",
       "  (0, 0),\n",
       "  (1.0, 1.0),\n",
       "  (0.13293825089931488, 0.2503490149974823),\n",
       "  3],\n",
       " ['/r/AtLocation',\n",
       "  'イルカ',\n",
       "  '水族館',\n",
       "  'イルカが水族館で展示される事が多いなど',\n",
       "  (1, 0),\n",
       "  (0.5, 1.0),\n",
       "  (0.08893381059169769, 0.2101650834083557),\n",
       "  3],\n",
       " ['/r/IsA',\n",
       "  'テニス',\n",
       "  'スポーツ',\n",
       "  'テニスはスポーツの一つである',\n",
       "  (2, 0),\n",
       "  (0.3333333333333333, 1.0),\n",
       "  (0.08271581679582596, 0.8463014960289001),\n",
       "  3],\n",
       " ['/r/MadeOf',\n",
       "  'うどん',\n",
       "  '小麦粉',\n",
       "  'うどんは小麦粉を使って作られるから',\n",
       "  (10, 0),\n",
       "  (0.09090909090909091, 1.0),\n",
       "  (0.013872388750314713, 0.7547534108161926),\n",
       "  3],\n",
       " ['/r/Synonym',\n",
       "  '空気',\n",
       "  '大気',\n",
       "  '空気は酸素と水と窒素からなるなど、大気は大気中で起こる現象の名前などから連想される',\n",
       "  (2, 0),\n",
       "  (0.3333333333333333, 1.0),\n",
       "  (0.054228588938713074, 0.5421711206436157),\n",
       "  0]]"
      ]
     },
     "execution_count": 4,
     "metadata": {},
     "output_type": "execute_result"
    }
   ],
   "source": [
    "# n-shot，被りなし（deduplicated）\n",
    "n = 10\n",
    "sample_data = [[*row[:3], eval(row[3])[0], eval(row[4])[0], eval(row[5])[0], eval(row[6])[0], eval(row[7])[0]] for row in input_data_a[:n]]\n",
    "sample_data_a = [row for row in sample_data[:5]]\n",
    "sample_data_a"
   ]
  },
  {
   "cell_type": "code",
   "execution_count": 32,
   "metadata": {},
   "outputs": [],
   "source": [
    "# 2n-shot，best10（decuplicated）\n",
    "n = 10\n",
    "assert n % 2 == 0\n",
    "sample_data = []\n",
    "for row in input_data_a[:n//2]:\n",
    "    sample_data.append([*row[:3], eval(row[3])[0], eval(row[4])[0], eval(row[5])[0], eval(row[6])[0], eval(row[7])[0]])\n",
    "    sample_data.append([*row[:3], eval(row[3])[1], eval(row[4])[1], eval(row[5])[1], eval(row[6])[1], eval(row[7])[1]])"
   ]
  },
  {
   "cell_type": "code",
   "execution_count": null,
   "metadata": {},
   "outputs": [],
   "source": [
    "# n-shot 被りあり（duplicated）\n",
    "n = 5\n",
    "flatten_data = [[*row[:3], cpl, ranks, rrs, scores, label] for row in input_data_a\n",
    "                for cpl, ranks, rrs, scores, label in zip(eval(row[3]), eval(row[4]), eval(row[5]), eval(row[6]), eval(row[7]))]\n",
    "flatten_data.sort(key=lambda x: (x[5][0]+x[5][1], 1/len(x[3]), x[6][0]+x[6][1]), reverse=True)\n",
    "sample_data = flatten_data[:n]\n",
    "sample_data"
   ]
  },
  {
   "cell_type": "code",
   "execution_count": 27,
   "metadata": {},
   "outputs": [],
   "source": [
    "# n-shot，被り無し，ランダム\n",
    "# ランダムだけど前処理はする（completionの中に刺激語と連想語が含まれているものの中からランダムに選ぶ）\n",
    "n = 5\n",
    "sample_data = []\n",
    "label_flag = 1  # 2 or 0\n",
    "\n",
    "seed_value = 12\n",
    "random.seed(seed_value)\n",
    "\n",
    "for row in input_data_a[:n]:\n",
    "    cpl_list = []\n",
    "    ranks_list = []\n",
    "    rrs_list = []\n",
    "    scores_list = []\n",
    "    label_list = []\n",
    "    for cpl, ranks, rrs, scores, label in zip(eval(row[3]), eval(row[4]), eval(row[5]), eval(row[6]), eval(row[7])):\n",
    "        if (rrs[0] >= 0) and (rrs[1] >= 0):\n",
    "            cpl_list.append(cpl)\n",
    "            ranks_list.append(ranks)\n",
    "            rrs_list.append(rrs)\n",
    "            scores_list.append(scores)\n",
    "            label_list.append(label)\n",
    "        else:\n",
    "            continue\n",
    "\n",
    "    random_id = random.randint(0, len(cpl_list)-1)\n",
    "    # labelが全て1 or 0のものでランダムに選定したい場合\n",
    "    # if any(label_list):\n",
    "    #     while True:\n",
    "    #         random_id = random.randint(0, len(cpl_list)-1)\n",
    "    #         if label_list[random_id] > 1:\n",
    "    #             break\n",
    "    # else:\n",
    "    #     print(\"Error\")\n",
    "    #     random_id = random.randint(0, len(cpl_list)-1)\n",
    "    sample_data.append([*row[:3], cpl_list[random_id], ranks_list[random_id], rrs_list[random_id], scores_list[random_id], label_list[random_id]])\n",
    "# sample_data"
   ]
  },
  {
   "cell_type": "code",
   "execution_count": 28,
   "metadata": {},
   "outputs": [
    {
     "name": "stdout",
     "output_type": "stream",
     "text": [
      "与えられた入力語から出力語が連想される理由について解答しなさい。\n",
      "入力語:ピアノ 出力語:楽器\n",
      "連想の理由:ピアノは子どもの頃から好きで、楽器は音楽を作るための道具です\n",
      "\n",
      "入力語:イルカ 出力語:水族館\n",
      "連想の理由:水族館は、海にある施設で、イルカが水槽に入っている姿を見ることができる施設\n",
      "\n",
      "入力語:テニス 出力語:スポーツ\n",
      "連想の理由:連想語リストを見ると、スポーツに「テニス」が含まれていないのに、「テニス」が「スポ\n",
      "\n",
      "入力語:うどん 出力語:小麦粉\n",
      "連想の理由:うどんを食べたことがある人は小麦粉を食べたことがある可能性が高い\n",
      "\n",
      "入力語:空気 出力語:大気\n",
      "連想の理由: 空気は大気の一部である\n",
      "\n",
      "入力語:{head} 出力語:{tail}\n",
      "連想の理由:\n"
     ]
    }
   ],
   "source": [
    "# 自動生成された連想理由\n",
    "input_path = \"results/ja/連想語頻度表/text_generation/231031120400_dev30_M10_0S_0R/m_and_a/len/diffs_btween_manda_formatted6.csv\"\n",
    "output_path = f\"datasets/連想語頻度表/templates/{n}-shot_len_deduplicated_random/{n}-shot_len_deduplicated_random_{seed_value}.json\"\n",
    "\n",
    "templates_dict = \\\n",
    "{\n",
    "    \"description\": f\"2023/12/7 項目間5-shotで項目間被りなし，ランダム，シード値{seed_value}\",\n",
    "    \"prompt_input\": \"与えられた入力語から出力語が連想される理由について解答しなさい。\\n\",\n",
    "    \"replace_template\": \"\",\n",
    "    \"sample_data\": sample_data,\n",
    "}\n",
    "\n",
    "template = \"入力語:{head} 出力語:{tail}\\n連想の理由:{completion}\"\n",
    "\n",
    "for row in sample_data:\n",
    "    tmp_template = template\n",
    "    head = row[1]\n",
    "    tail = row[2]\n",
    "    completion = row[3]\n",
    "    tmp_template = tmp_template.replace(\"{head}\", head)\n",
    "    tmp_template = tmp_template.replace(\"{tail}\", tail)\n",
    "    tmp_template = tmp_template.replace(\"{completion}\", completion)\n",
    "    templates_dict[\"prompt_input\"] += f\"{tmp_template}\\n\\n\"\n",
    "templates_dict[\"prompt_input\"] += \"入力語:{head} 出力語:{tail}\\n連想の理由:\"\n",
    "templates_dict[\"replace_template\"] = templates_dict[\"prompt_input\"].replace(\"\\n\", \" \")\n",
    "\n",
    "print(templates_dict[\"prompt_input\"])\n",
    "\n",
    "with open(output_path, 'w') as f:\n",
    "    json.dump(templates_dict, f, ensure_ascii=False, indent=2)"
   ]
  },
  {
   "cell_type": "markdown",
   "metadata": {},
   "source": [
    "## 手動生成された連想理由を使用したテンプレート作成"
   ]
  },
  {
   "cell_type": "code",
   "execution_count": 5,
   "metadata": {},
   "outputs": [],
   "source": [
    "# 手動生成された連想理由のデータを読み込み\n",
    "input_path = \"datasets/連想語頻度表/all/dev_mini2/htrkpns_tmp_manual_RTY.csv\"\n",
    "with open(input_path, 'r') as f:\n",
    "    reader = csv.reader(f)\n",
    "    input_data_m = [row for row in reader]"
   ]
  },
  {
   "cell_type": "code",
   "execution_count": 7,
   "metadata": {},
   "outputs": [],
   "source": [
    "# 特定の個人の連想理由を使用\n",
    "subject_id = 0  # 0: 富島, 1: 問井, 2: 悠真\n",
    "n = 10\n",
    "cpl_id_list = [9, 8, 10, 13, 22, 4, 2, 19, 12, 14]\n",
    "assert len(cpl_id_list) == n, f\"shot数を適切に揃えてください\"\n",
    "\n",
    "sample_data = [[eval(row[2])[0], *row[:2], eval(row[6])[subject_id]] for row in input_data_m]\n",
    "sample_data = [sample_data[i-1] for i in cpl_id_list]"
   ]
  },
  {
   "cell_type": "code",
   "execution_count": 8,
   "metadata": {},
   "outputs": [
    {
     "name": "stdout",
     "output_type": "stream",
     "text": [
      "[['/r/IsA', 'ピアノ', '楽器', 'ピアノは楽器の1つだからです'], ['/r/IsA', 'イルカ', '哺乳類', 'イルカは哺乳類に属しているからです'], ['/r/IsA', 'テニス', 'スポーツ', 'テニスはスポーツの仲間だからです'], ['/r/MadeOf', 'うどん', '小麦粉', 'うどんは小麦粉からできているからです'], ['/r/Synonym', '空気', '大気', '空気は大気とも言われるからです'], ['/r/AtLocation', 'カジノ', 'ラスベガス', 'ラスベガスがカジノの聖地だからです'], ['/r/AtLocation', 'イルカ', '水族館', 'イルカがいる水族館があるからです'], ['/r/PartOf', '画面', 'パソコン', 'パソコンの一部に画面があるからです'], ['/r/MadeOf', 'ビール', '麦', 'ビールは麦で作られているからです'], ['/r/MadeOf', 'ワイン', 'アルコール', 'ワインはアルコールの一種だからです']]\n"
     ]
    },
    {
     "data": {
      "text/plain": [
       "[['/r/AtLocation', 'カジノ', 'ラスベガス', 'ラスベガスがカジノの聖地だからです'],\n",
       " ['/r/AtLocation', 'イルカ', '水族館', 'イルカがいる水族館があるからです'],\n",
       " ['/r/PartOf', '画面', 'パソコン', 'パソコンの一部に画面があるからです'],\n",
       " ['/r/MadeOf', 'ビール', '麦', 'ビールは麦で作られているからです'],\n",
       " ['/r/MadeOf', 'ワイン', 'アルコール', 'ワインはアルコールの一種だからです']]"
      ]
     },
     "execution_count": 8,
     "metadata": {},
     "output_type": "execute_result"
    }
   ],
   "source": [
    "# ランダムな連想理由を使用\n",
    "n = 10\n",
    "cpl_id_list = [9, 8, 10, 13, 22, 4, 2, 19, 12, 14]\n",
    "assert len(cpl_id_list) == n, f\"shot数を適切に揃えてください\"\n",
    "\n",
    "sample_data = [[eval(row[2])[0], *row[:2], eval(row[6])] for row in input_data_m]\n",
    "sample_data = [[*sample_data[i-1][:3], random.choice(sample_data[i-1][3])] for i in cpl_id_list]\n",
    "print(sample_data)\n",
    "sample_data_m = [row for row in sample_data[5:]]\n",
    "sample_data_m"
   ]
  },
  {
   "cell_type": "code",
   "execution_count": 11,
   "metadata": {},
   "outputs": [
    {
     "data": {
      "text/plain": [
       "[['/r/IsA', 'ピアノ', '楽器', 'ピアノは楽器の1つだからです'],\n",
       " ['/r/IsA', 'ピアノ', '楽器', 'ピアノは楽器の一種だからです'],\n",
       " ['/r/IsA', 'ピアノ', '楽器', 'ピアノは楽器の一つだからです'],\n",
       " ['/r/IsA', 'イルカ', '哺乳類', 'イルカは哺乳類に属しているからです'],\n",
       " ['/r/IsA', 'イルカ', '哺乳類', 'イルカは哺乳類の仲間だからです'],\n",
       " ['/r/IsA', 'イルカ', '哺乳類', 'イルカは哺乳類だからです'],\n",
       " ['/r/IsA', 'テニス', 'スポーツ', 'テニスはスポーツの1つだからです'],\n",
       " ['/r/IsA', 'テニス', 'スポーツ', 'テニスはスポーツの仲間だからです'],\n",
       " ['/r/IsA', 'テニス', 'スポーツ', 'テニスはスポーツの一つだからです'],\n",
       " ['/r/MadeOf', 'うどん', '小麦粉', 'うどんは小麦粉からできているからです'],\n",
       " ['/r/MadeOf', 'うどん', '小麦粉', 'うどんは小麦粉からできているからです'],\n",
       " ['/r/MadeOf', 'うどん', '小麦粉', 'うどんは小麦粉で作られているからです'],\n",
       " ['/r/Synonym', '空気', '大気', '空気と大気は同じだからです'],\n",
       " ['/r/Synonym', '空気', '大気', '空気は大気に含まれるからです'],\n",
       " ['/r/Synonym', '空気', '大気', '空気は大気とも言われるからです']]"
      ]
     },
     "execution_count": 11,
     "metadata": {},
     "output_type": "execute_result"
    }
   ],
   "source": [
    "# 全員使用\n",
    "n = 15\n",
    "num_subjects = 3\n",
    "cpl_id_list = [9, 8, 10, 13, 22]\n",
    "\n",
    "sample_data_ = [[eval(row[2])[0], *row[:2], eval(row[6])] for row in input_data_m]\n",
    "sample_data_ = [sample_data_[i-1] for i in cpl_id_list]\n",
    "sample_data = []\n",
    "for row in sample_data_:\n",
    "    for i in range(num_subjects):\n",
    "        sample_data.append([*row[:-1], row[-1][i]])\n",
    "\n",
    "sample_data"
   ]
  },
  {
   "cell_type": "code",
   "execution_count": 7,
   "metadata": {},
   "outputs": [
    {
     "data": {
      "text/plain": [
       "[['/r/AtLocation', 'イルカ', '水族館', 'イルカがいる水族館があるからです'],\n",
       " ['/r/Synonym',\n",
       "  '空気',\n",
       "  '大気',\n",
       "  '空気は酸素と水と窒素からなるなど、大気は大気中で起こる現象の名前などから連想される',\n",
       "  (2, 0),\n",
       "  (0.3333333333333333, 1.0),\n",
       "  (0.054228588938713074, 0.5421711206436157),\n",
       "  0],\n",
       " ['/r/AtLocation', 'カジノ', 'ラスベガス', 'カジノはラスベガスが有名だからです'],\n",
       " ['/r/IsA',\n",
       "  'テニス',\n",
       "  'スポーツ',\n",
       "  'テニスはスポーツの一つである',\n",
       "  (2, 0),\n",
       "  (0.3333333333333333, 1.0),\n",
       "  (0.08271581679582596, 0.8463014960289001),\n",
       "  3],\n",
       " ['/r/IsA',\n",
       "  'ピアノ',\n",
       "  '楽器',\n",
       "  '(1) ピアノは楽器の一種なので、連想が成り立つ',\n",
       "  (0, 0),\n",
       "  (1.0, 1.0),\n",
       "  (0.13293825089931488, 0.2503490149974823),\n",
       "  3],\n",
       " ['/r/PartOf', '画面', 'パソコン', 'パソコンには画面がついているからです'],\n",
       " ['/r/MadeOf', 'ビール', '麦', 'ビールは麦からできているからです'],\n",
       " ['/r/MadeOf',\n",
       "  'うどん',\n",
       "  '小麦粉',\n",
       "  'うどんは小麦粉を使って作られるから',\n",
       "  (10, 0),\n",
       "  (0.09090909090909091, 1.0),\n",
       "  (0.013872388750314713, 0.7547534108161926),\n",
       "  3],\n",
       " ['/r/MadeOf', 'ワイン', 'アルコール', 'ワインはアルコールを含んでいるからです'],\n",
       " ['/r/AtLocation',\n",
       "  'イルカ',\n",
       "  '水族館',\n",
       "  'イルカが水族館で展示される事が多いなど',\n",
       "  (1, 0),\n",
       "  (0.5, 1.0),\n",
       "  (0.08893381059169769, 0.2101650834083557),\n",
       "  3]]"
      ]
     },
     "execution_count": 7,
     "metadata": {},
     "output_type": "execute_result"
    }
   ],
   "source": [
    "# 自動と手動のmix\n",
    "n = 10\n",
    "sample_data_mix = []\n",
    "for row_a, row_m in zip(sample_data_a, sample_data_m):\n",
    "    sample_data_mix.append(row_a)\n",
    "    sample_data_mix.append(row_m)\n",
    "\n",
    "sample_data = [row for row in sample_data_mix]\n",
    "random.shuffle(sample_data)\n",
    "sample_data"
   ]
  },
  {
   "cell_type": "code",
   "execution_count": 9,
   "metadata": {},
   "outputs": [
    {
     "name": "stdout",
     "output_type": "stream",
     "text": [
      "与えられた入力語から出力語が連想される理由について解答しなさい。\n",
      "入力語:ピアノ 出力語:楽器\n",
      "連想の理由:ピアノは楽器の1つだからです\n",
      "\n",
      "入力語:イルカ 出力語:哺乳類\n",
      "連想の理由:イルカは哺乳類に属しているからです\n",
      "\n",
      "入力語:テニス 出力語:スポーツ\n",
      "連想の理由:テニスはスポーツの仲間だからです\n",
      "\n",
      "入力語:うどん 出力語:小麦粉\n",
      "連想の理由:うどんは小麦粉からできているからです\n",
      "\n",
      "入力語:空気 出力語:大気\n",
      "連想の理由:空気は大気とも言われるからです\n",
      "\n",
      "入力語:カジノ 出力語:ラスベガス\n",
      "連想の理由:ラスベガスがカジノの聖地だからです\n",
      "\n",
      "入力語:イルカ 出力語:水族館\n",
      "連想の理由:イルカがいる水族館があるからです\n",
      "\n",
      "入力語:画面 出力語:パソコン\n",
      "連想の理由:パソコンの一部に画面があるからです\n",
      "\n",
      "入力語:ビール 出力語:麦\n",
      "連想の理由:ビールは麦で作られているからです\n",
      "\n",
      "入力語:ワイン 出力語:アルコール\n",
      "連想の理由:ワインはアルコールの一種だからです\n",
      "\n",
      "入力語:{head} 出力語:{tail}\n",
      "連想の理由:\n"
     ]
    }
   ],
   "source": [
    "# 手動生成された連想理由\n",
    "input_path = \"results/ja/連想語頻度表/text_generation/231031120400_dev30_M10_0S_0R/m_and_a/len/diffs_btween_manda_formatted6.csv\"\n",
    "output_path = f\"datasets/連想語頻度表/templates/{n}-shot_len_xRandom.json\"\n",
    "\n",
    "templates_dict = \\\n",
    "{\n",
    "    \"description\": \"2023/11/30 項目間5-shotで項目間被りなし (ランダム)\",\n",
    "    \"prompt_input\": \"与えられた入力語から出力語が連想される理由について解答しなさい。\\n\",\n",
    "    \"replace_template\": \"\",\n",
    "    \"sample_data\": sample_data,\n",
    "}\n",
    "\n",
    "template = \"入力語:{head} 出力語:{tail}\\n連想の理由:{completion}\"\n",
    "\n",
    "for row in sample_data:\n",
    "    tmp_template = template\n",
    "    head = row[1]\n",
    "    tail = row[2]\n",
    "    completion = row[3]\n",
    "    tmp_template = tmp_template.replace(\"{head}\", head)\n",
    "    tmp_template = tmp_template.replace(\"{tail}\", tail)\n",
    "    tmp_template = tmp_template.replace(\"{completion}\", completion)\n",
    "    templates_dict[\"prompt_input\"] += f\"{tmp_template}\\n\\n\"\n",
    "templates_dict[\"prompt_input\"] += \"入力語:{head} 出力語:{tail}\\n連想の理由:\"\n",
    "templates_dict[\"replace_template\"] = templates_dict[\"prompt_input\"].replace(\"\\n\", \" \")\n",
    "\n",
    "print(templates_dict[\"prompt_input\"])\n",
    "\n",
    "with open(output_path, 'w') as f:\n",
    "    json.dump(templates_dict, f, ensure_ascii=False, indent=2)"
   ]
  },
  {
   "cell_type": "code",
   "execution_count": 38,
   "metadata": {},
   "outputs": [],
   "source": [
    "output_path = \"datasets/連想語頻度表/templates/few-shot_no_refs_6.json\"\n",
    "with open(output_path, 'w') as f:\n",
    "    json.dump(templates_dict, f, ensure_ascii=False, indent=2)"
   ]
  }
 ],
 "metadata": {
  "kernelspec": {
   "display_name": "venv",
   "language": "python",
   "name": "python3"
  },
  "language_info": {
   "codemirror_mode": {
    "name": "ipython",
    "version": 3
   },
   "file_extension": ".py",
   "mimetype": "text/x-python",
   "name": "python",
   "nbconvert_exporter": "python",
   "pygments_lexer": "ipython3",
   "version": "3.10.6"
  }
 },
 "nbformat": 4,
 "nbformat_minor": 2
}
